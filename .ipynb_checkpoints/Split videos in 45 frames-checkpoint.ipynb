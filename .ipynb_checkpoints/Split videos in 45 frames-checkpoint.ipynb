{
 "cells": [
  {
   "cell_type": "code",
   "execution_count": 24,
   "id": "cb311091-06a9-4ad1-a439-1771bcc22974",
   "metadata": {},
   "outputs": [],
   "source": [
    "import numpy as np\n",
    "import pandas as pd\n",
    "import os\n",
    "import tqdm"
   ]
  },
  {
   "cell_type": "code",
   "execution_count": 25,
   "id": "314cd68b-bcdb-412d-b087-d20bb703dcfb",
   "metadata": {},
   "outputs": [],
   "source": [
    "metadata = pd.read_json('/home/pravar_d_mahajan/git/deep-smoke-machine/back-end/data/metadata-frissewind.json')"
   ]
  },
  {
   "cell_type": "code",
   "execution_count": 26,
   "id": "a7bb9d41-2319-47de-b380-617cb8ca68b2",
   "metadata": {},
   "outputs": [],
   "source": [
    "rgb_dir = \"/mnt/sdb/data/frissewind-npy-2/rgb/\"\n",
    "flow_dir = \"/mnt/sdb/data/frissewind-npy-2/flow/\""
   ]
  },
  {
   "cell_type": "code",
   "execution_count": 31,
   "id": "67724f76-2871-405f-9d73-85b6650bf625",
   "metadata": {},
   "outputs": [
    {
     "name": "stderr",
     "output_type": "stream",
     "text": [
      "467it [00:00, 14545.06it/s]\n"
     ]
    }
   ],
   "source": [
    "num_frames = 45\n",
    "\n",
    "def get_original_filename(dir_path, filename):\n",
    "    return dir_path + filename + '.npy'\n",
    "\n",
    "def get_part_filename(dir_path, filename, part):\n",
    "    return dir_path + filename + '-part-' + str(part) + '.npy'\n",
    "\n",
    "new_metadata = []\n",
    "for k, row in tqdm.tqdm(metadata.iterrows()):\n",
    "    \n",
    "    rgb_filename = get_original_filename(rgb_dir, row['file_name'])\n",
    "    flow_filename = get_original_filename(flow_dir, row['file_name'])\n",
    "\n",
    "    try:\n",
    "        rgb = np.load(rgb_filename)\n",
    "        flow = np.load(flow_filename)\n",
    "    except ValueError:\n",
    "        print(rgb_filename)\n",
    "        print(flow_filename)\n",
    "    except FileNotFoundError:\n",
    "        continue\n",
    "        \n",
    "    if(rgb.shape[0] != flow.shape[0]):\n",
    "        print(\"shapes don't match: {} vs {}\".format(rgb.shape[0], flow.shape[0]))\n",
    "        continue\n",
    "    frames_count = rgb.shape[0]\n",
    "    num_parts = (frames_count//num_frames) + 1\n",
    "    for t in range(num_parts):\n",
    "        # don't need this part\n",
    "        if (t+1)*num_frames > frames_count:\n",
    "            break\n",
    "        rgb_part = rgb[t*num_frames : (t+1)*num_frames, :, :, :]\n",
    "        flow_part = flow[t*num_frames : (t+1)*num_frames, :, :, :]\n",
    "        rgb_part_filename = get_part_filename(rgb_dir, row['file_name'], t)\n",
    "        flow_part_filename = get_part_filename(flow_dir, row['file_name'], t)\n",
    "        np.save(rgb_part_filename, rgb_part)\n",
    "        #print(\"Saved to {}\".format(rgb_part_filename))\n",
    "        np.save(flow_part_filename, flow_part)\n",
    "        #print(\"Saved to {}\".format(flow_part_filename))\n",
    "        new_metadata.append({'file_name': row['file_name'] + '-part-' + str(t), 'label': row['label']})\n",
    "    \n",
    "    os.remove(rgb_filename)\n",
    "    os.remove(flow_filename)\n",
    "\n"
   ]
  },
  {
   "cell_type": "code",
   "execution_count": 66,
   "id": "88ccef7e-eeb7-4523-bf20-dd5c77d48c3b",
   "metadata": {},
   "outputs": [],
   "source": [
    "new_metadata = []"
   ]
  },
  {
   "cell_type": "code",
   "execution_count": 67,
   "id": "bbafd54f-b803-4210-aca6-9f6ef1fc788a",
   "metadata": {},
   "outputs": [],
   "source": [
    "import glob\n",
    "all_part_files = glob.glob(os.path.join(rgb_dir, '*', '*'))\n",
    "\n",
    "for f in all_part_files:\n",
    "    label = f.split('/')[-2]\n",
    "    file_name = label + '/' + f.split('/')[-1].replace('.npy', '')\n",
    "    if label == 'Pos':\n",
    "        label_state_admin = 1\n",
    "    else:\n",
    "        label_state_admin = 0\n",
    "    new_metadata.append({'file_name': file_name, 'label': label_state_admin})"
   ]
  },
  {
   "cell_type": "code",
   "execution_count": 68,
   "id": "d0bdae8b-b5ff-467b-91ee-36f7d1337926",
   "metadata": {},
   "outputs": [],
   "source": [
    "new_metadata = pd.DataFrame(new_metadata)"
   ]
  },
  {
   "cell_type": "code",
   "execution_count": 69,
   "id": "157b2128-6ff0-4300-b1d6-d302e6caf742",
   "metadata": {},
   "outputs": [
    {
     "data": {
      "text/html": [
       "<div>\n",
       "<style scoped>\n",
       "    .dataframe tbody tr th:only-of-type {\n",
       "        vertical-align: middle;\n",
       "    }\n",
       "\n",
       "    .dataframe tbody tr th {\n",
       "        vertical-align: top;\n",
       "    }\n",
       "\n",
       "    .dataframe thead th {\n",
       "        text-align: right;\n",
       "    }\n",
       "</style>\n",
       "<table border=\"1\" class=\"dataframe\">\n",
       "  <thead>\n",
       "    <tr style=\"text-align: right;\">\n",
       "      <th></th>\n",
       "      <th>file_name</th>\n",
       "      <th>label</th>\n",
       "    </tr>\n",
       "  </thead>\n",
       "  <tbody>\n",
       "    <tr>\n",
       "      <th>0</th>\n",
       "      <td>Pos/5-juni_21h-08m-15-25s-part-2</td>\n",
       "      <td>1</td>\n",
       "    </tr>\n",
       "    <tr>\n",
       "      <th>1</th>\n",
       "      <td>Pos/14-juni_15h-24m-10-21s-part-4</td>\n",
       "      <td>1</td>\n",
       "    </tr>\n",
       "    <tr>\n",
       "      <th>2</th>\n",
       "      <td>Pos/14-juni_15h-24m-08-18s-part-3</td>\n",
       "      <td>1</td>\n",
       "    </tr>\n",
       "    <tr>\n",
       "      <th>3</th>\n",
       "      <td>Pos/8-juni_10h-16m-03-14s-part-4</td>\n",
       "      <td>1</td>\n",
       "    </tr>\n",
       "    <tr>\n",
       "      <th>4</th>\n",
       "      <td>Pos/13-juli_06h-40m-20-31s-part-0</td>\n",
       "      <td>1</td>\n",
       "    </tr>\n",
       "  </tbody>\n",
       "</table>\n",
       "</div>"
      ],
      "text/plain": [
       "                           file_name  label\n",
       "0   Pos/5-juni_21h-08m-15-25s-part-2      1\n",
       "1  Pos/14-juni_15h-24m-10-21s-part-4      1\n",
       "2  Pos/14-juni_15h-24m-08-18s-part-3      1\n",
       "3   Pos/8-juni_10h-16m-03-14s-part-4      1\n",
       "4  Pos/13-juli_06h-40m-20-31s-part-0      1"
      ]
     },
     "execution_count": 69,
     "metadata": {},
     "output_type": "execute_result"
    }
   ],
   "source": [
    "new_metadata.head()"
   ]
  },
  {
   "cell_type": "code",
   "execution_count": 70,
   "id": "b1912b2c-cfcd-4f7c-bf43-344814654a07",
   "metadata": {},
   "outputs": [],
   "source": [
    "new_metadata.to_json('/home/pravar_d_mahajan/git/deep-smoke-machine/back-end/data/metadata-frissewind-parts.json')"
   ]
  },
  {
   "cell_type": "code",
   "execution_count": null,
   "id": "99d9b517-8d59-47d0-a305-32a44f1b0961",
   "metadata": {},
   "outputs": [],
   "source": []
  }
 ],
 "metadata": {
  "kernelspec": {
   "display_name": "Python 3 (ipykernel)",
   "language": "python",
   "name": "python3"
  },
  "language_info": {
   "codemirror_mode": {
    "name": "ipython",
    "version": 3
   },
   "file_extension": ".py",
   "mimetype": "text/x-python",
   "name": "python",
   "nbconvert_exporter": "python",
   "pygments_lexer": "ipython3",
   "version": "3.11.4"
  }
 },
 "nbformat": 4,
 "nbformat_minor": 5
}
